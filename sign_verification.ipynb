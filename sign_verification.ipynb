{
 "cells": [
  {
   "cell_type": "code",
   "execution_count": 49,
   "metadata": {},
   "outputs": [],
   "source": [
    "import numpy as np\n",
    "import matplotlib.pyplot as plt\n",
    "import seaborn as sns\n",
    "import  cv2\n",
    "import os\n",
    "from sklearn.model_selection import train_test_split\n",
    "from sklearn.svm import SVC\n",
    "from sklearn.ensemble import RandomForestClassifier\n",
    "from sklearn.metrics import accuracy_score, classification_report\n",
    "from skimage.feature import hog, local_binary_pattern\n",
    "from sklearn.preprocessing import StandardScaler\n",
    "from natsort import natsorted"
   ]
  },
  {
   "cell_type": "code",
   "execution_count": 50,
   "metadata": {},
   "outputs": [],
   "source": [
    "genuine_path = r'archive(1)\\signatures\\full_org'\n",
    "forged_path = r'archive(1)\\signatures\\full_forg'"
   ]
  },
  {
   "cell_type": "code",
   "execution_count": null,
   "metadata": {},
   "outputs": [],
   "source": [
    "# def extract_features(img):\n",
    "#     img=cv2.resize(img,(256,128))\n",
    "#     _, binary_img = cv2.threshold(img, 128, 255, cv2.THRESH_BINARY)\n",
    "#     hog_features = hog(binary_img, pixels_per_cell=(16, 16), cells_per_block=(2, 2), feature_vector=True)\n",
    "#     lbp = local_binary_pattern(binary_img, P=24, R=3, method=\"uniform\")\n",
    "#     (lbp_hist, _) = np.histogram(lbp.ravel(), bins=np.arange(0, 27), range=(0, 26))\n",
    "#     lbp_hist = lbp_hist.astype(\"float\")\n",
    "#     lbp_hist /= lbp_hist.sum()\n",
    "#     moments = cv2.moments(binary_img)\n",
    "#     hu_moments = cv2.HuMoments(moments).flatten()\n",
    "#     features = np.hstack([hog_features, lbp_hist, hu_moments])\n",
    "#     return features\n",
    "def extract_features(img):\n",
    "    # Resize to standardized dimensions\n",
    "    img = cv2.resize(img, (256, 128))\n",
    "    \n",
    "    # Enhanced binarization with automatic background detection\n",
    "    _, binary_img = cv2.threshold(img, 0, 255, cv2.THRESH_BINARY + cv2.THRESH_OTSU)\n",
    "    \n",
    "    # Ensure black signature on white background\n",
    "    if np.sum(binary_img) < (binary_img.size * 255 / 2):\n",
    "        binary_img = cv2.bitwise_not(binary_img)\n",
    "    \n",
    "    # 1. HOG Features (from grayscale image)\n",
    "    hog_features = hog(img, \n",
    "                      pixels_per_cell=(16, 16),\n",
    "                      cells_per_block=(2, 2),\n",
    "                      feature_vector=True)\n",
    "    \n",
    "    # 2. LBP Features (from grayscale image)\n",
    "    lbp = local_binary_pattern(img, P=24, R=3, method=\"uniform\")\n",
    "    lbp_hist, _ = np.histogram(lbp.ravel(), bins=np.arange(0, 27), range=(0, 26))\n",
    "    lbp_hist = lbp_hist.astype(\"float\") / (lbp_hist.sum() + 1e-7)  # Add epsilon to avoid division by zero\n",
    "    \n",
    "    # 3. Hu Moments (from binary image)\n",
    "    moments = cv2.moments(binary_img)\n",
    "    hu_moments = cv2.HuMoments(moments).flatten()\n",
    "    \n",
    "    # Log-scale normalization for Hu Moments\n",
    "    hu_moments = np.sign(hu_moments) * np.log10(np.abs(hu_moments) + 1e-7)\n",
    "    \n",
    "    # Combine all features\n",
    "    features = np.hstack([hog_features, lbp_hist, hu_moments])\n",
    "    \n",
    "    return features\n"
   ]
  },
  {
   "cell_type": "code",
   "execution_count": 62,
   "metadata": {},
   "outputs": [],
   "source": [
    "# def load_images(folder,label):\n",
    "#     X_train=[]\n",
    "#     X_test=[]\n",
    "#     y_train=[]\n",
    "#     y_test=[]\n",
    "#     data_size = len([f for f in os.listdir(folder) if os.path.isfile(os.path.join(folder, f))])\n",
    "#     train_size=0.8*data_size\n",
    "#     i=1\n",
    "#     for filename in natsorted(os.listdir(folder)):\n",
    "#         img_path=os.path.join(folder,filename)\n",
    "#         img=cv2.imread(img_path,cv2.IMREAD_GRAYSCALE)\n",
    "#         if img is not None:\n",
    "#             i+=1\n",
    "#             features=extract_features(img)\n",
    "#             if(i<=train_size):\n",
    "#                 X_train.append(features)\n",
    "#                 y_train.append(label)\n",
    "#             else:\n",
    "#                 X_test.append(features)\n",
    "#                 y_test.append(label)\n",
    "#     return np.array(X_train),np.array(X_test),np.array(y_train),np.array(y_test)\n",
    "def load_images(folder, label):\n",
    "    X_train = []\n",
    "    X_test = []\n",
    "    y_train = []\n",
    "    y_test = []\n",
    "    file_list = [f for f in os.listdir(folder) if os.path.isfile(os.path.join(folder, f))]\n",
    "    data_size = len(file_list)\n",
    "    train_size = int(0.8 * data_size)\n",
    "    file_list = natsorted(file_list)  # Sort files naturally\n",
    "    \n",
    "    for i, filename in enumerate(file_list):\n",
    "        img_path = os.path.join(folder, filename)\n",
    "        img = cv2.imread(img_path, cv2.IMREAD_GRAYSCALE)\n",
    "        if img is not None:\n",
    "            features = extract_features(img)\n",
    "            if i < train_size:\n",
    "                X_train.append(features)\n",
    "                y_train.append(label)\n",
    "            else:\n",
    "                X_test.append(features)\n",
    "                y_test.append(label)\n",
    "    return np.array(X_train), np.array(X_test), np.array(y_train), np.array(y_test)\n"
   ]
  },
  {
   "cell_type": "code",
   "execution_count": 63,
   "metadata": {},
   "outputs": [],
   "source": [
    "real_X_train,real_X_test,real_y_train,real_y_test=load_images(genuine_path,label=0)\n",
    "forged_X_train,forged_X_test,forged_y_train,forged_y_test=load_images(forged_path,label=1)\n"
   ]
  },
  {
   "cell_type": "code",
   "execution_count": 64,
   "metadata": {},
   "outputs": [],
   "source": [
    "X_train=np.concatenate((real_X_train,forged_X_train), axis=0)\n",
    "X_test=np.concatenate((real_X_test,forged_X_test), axis=0)\n",
    "y_train=np.concatenate((real_y_train,forged_y_train), axis=0)\n",
    "y_test=np.concatenate((real_y_test,forged_y_test), axis=0)\n"
   ]
  },
  {
   "cell_type": "code",
   "execution_count": 65,
   "metadata": {},
   "outputs": [],
   "source": [
    "train_data = np.concatenate((X_train, y_train.reshape(-1, 1)), axis=1)\n",
    "test_data = np.concatenate((X_test, y_test.reshape(-1, 1)), axis=1)\n"
   ]
  },
  {
   "cell_type": "code",
   "execution_count": 66,
   "metadata": {},
   "outputs": [],
   "source": [
    "np.random.shuffle(train_data)  # Shuffles in-place\n",
    "np.random.shuffle(test_data)"
   ]
  },
  {
   "cell_type": "code",
   "execution_count": 67,
   "metadata": {},
   "outputs": [],
   "source": [
    "\n",
    "X_train_shuffled = train_data[:, :-1]\n",
    "y_train_shuffled = train_data[:, -1]\n",
    "\n",
    "X_test_shuffled = test_data[:, :-1]\n",
    "y_test_shuffled = test_data[:, -1]\n"
   ]
  },
  {
   "cell_type": "code",
   "execution_count": 68,
   "metadata": {},
   "outputs": [],
   "source": [
    "scaler = StandardScaler()\n",
    "X_train = scaler.fit_transform(X_train)\n",
    "X_test = scaler.transform(X_test)\n"
   ]
  },
  {
   "cell_type": "code",
   "execution_count": 69,
   "metadata": {},
   "outputs": [],
   "source": [
    "# X = np.concatenate((data_gen, data_forged), axis=0)\n",
    "# y = np.concatenate((label_gen, label_forged), axis=0)\n",
    "svm = SVC(kernel='linear', C=100.0)\n",
    "svm.fit(X_train, y_train)\n",
    "y_pred_svm = svm.predict(X_test)\n"
   ]
  },
  {
   "cell_type": "code",
   "execution_count": 70,
   "metadata": {},
   "outputs": [
    {
     "name": "stdout",
     "output_type": "stream",
     "text": [
      "SVM Accuracy: 0.9735849056603774\n"
     ]
    }
   ],
   "source": [
    "print(\"SVM Accuracy:\", accuracy_score(y_test, y_pred_svm))"
   ]
  },
  {
   "cell_type": "code",
   "execution_count": 37,
   "metadata": {},
   "outputs": [],
   "source": [
    "from sklearn.metrics import confusion_matrix\n",
    "import seaborn as sns"
   ]
  },
  {
   "cell_type": "code",
   "execution_count": 38,
   "metadata": {},
   "outputs": [],
   "source": [
    "cm = confusion_matrix(y_test,y_pred_svm)"
   ]
  },
  {
   "cell_type": "code",
   "execution_count": 39,
   "metadata": {},
   "outputs": [
    {
     "data": {
      "image/png": "[encoded data removed]",
      "text/plain": [
       "<Figure size 640x480 with 2 Axes>"
      ]
     },
     "metadata": {},
     "output_type": "display_data"
    }
   ],
   "source": [
    "sns.heatmap(cm, \n",
    "            annot=True,\n",
    "            fmt='g', \n",
    "            xticklabels=['Dog','Not Dog'],\n",
    "            yticklabels=['Dog','Not Dog'])\n",
    "plt.ylabel('Actual', fontsize=13)\n",
    "plt.title('Confusion Matrix', fontsize=17, pad=20)\n",
    "plt.gca().xaxis.set_label_position('top') \n",
    "plt.xlabel('Prediction', fontsize=13)\n",
    "plt.gca().xaxis.tick_top()\n",
    "\n",
    "plt.gca().figure.subplots_adjust(bottom=0.2)\n",
    "plt.gca().figure.text(0.5, 0.05, 'Prediction', ha='center', fontsize=13)\n",
    "plt.show()"
   ]
  },
  {
   "cell_type": "code",
   "execution_count": 47,
   "metadata": {},
   "outputs": [],
   "source": [
    "rf = RandomForestClassifier(n_estimators=200, random_state=55)\n",
    "rf.fit(X_train, y_train)\n",
    "y_pred_rf = rf.predict(X_test)"
   ]
  },
  {
   "cell_type": "code",
   "execution_count": 48,
   "metadata": {},
   "outputs": [
    {
     "name": "stdout",
     "output_type": "stream",
     "text": [
      "Random Forest Accuracy: 0.49056603773584906\n"
     ]
    }
   ],
   "source": [
    "print(\"Random Forest Accuracy:\", accuracy_score(y_test, y_pred_rf))"
   ]
  }
 ],
 "metadata": {
  "kernelspec": {
   "display_name": "Python 3",
   "language": "python",
   "name": "python3"
  },
  "language_info": {
   "codemirror_mode": {
    "name": "ipython",
    "version": 3
   },
   "file_extension": ".py",
   "mimetype": "text/x-python",
   "name": "python",
   "nbconvert_exporter": "python",
   "pygments_lexer": "ipython3",
   "version": "3.13.2"
  }
 },
 "nbformat": 4,
 "nbformat_minor": 2
}
